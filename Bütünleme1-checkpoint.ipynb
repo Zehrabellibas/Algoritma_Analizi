{
 "cells": [
  {
   "cell_type": "markdown",
   "metadata": {},
   "source": [
    "Soru.1) Merkez noktayı (hepsinin ortalaması olan nokta ) bulan fonksiyonu yazıp , karmaşıklığını bulunuz."
   ]
  },
  {
   "cell_type": "code",
   "execution_count": 1,
   "metadata": {},
   "outputs": [],
   "source": [
    "def bul_merkez_nokta(): #Bu fonksiyonun kapsadığı alanın karmaşıklığı, 6. Ama biz buna O(1) deriz. Karmaşıklık, 1'dir.\n",
    "    list = [[1,2], [3,4], [20,1], [7,2], [9,8]] \n",
    "    boyut = len(list) #2\n",
    "    print(boyut) \n",
    "    merkez = boyut//2 #2\n",
    "    print(merkez) \n",
    "    merkez_nokta = list[merkez] #2\n",
    "    print(merkez_nokta)"
   ]
  },
  {
   "cell_type": "code",
   "execution_count": 2,
   "metadata": {},
   "outputs": [
    {
     "name": "stdout",
     "output_type": "stream",
     "text": [
      "5\n",
      "2\n",
      "[20, 1]\n"
     ]
    }
   ],
   "source": [
    "bul_merkez_nokta()"
   ]
  },
  {
   "cell_type": "markdown",
   "metadata": {},
   "source": [
    "Soru.2) Merkez noktayı temsil amaçlı hepsinin ortalaması olan nokta yerine bu noktaya en yakın noktayı bulan fonksiyonu yazıp , karmaşıklığını bulunuz."
   ]
  },
  {
   "cell_type": "code",
   "execution_count": null,
   "metadata": {},
   "outputs": [],
   "source": []
  },
  {
   "cell_type": "markdown",
   "metadata": {},
   "source": [
    "Soru.3) Noktaları x eksenine göre insertion sort yöntemi ile \"ilk yarısı sıralı\" olması özelliğini de kullanarak sıralayan fonksiyon yazıp, karmaşıklığını bulunuz."
   ]
  },
  {
   "cell_type": "code",
   "execution_count": 6,
   "metadata": {},
   "outputs": [],
   "source": [
    "def insertion_sort(list):\n",
    "    for index in range(1, len(list)): #Bu for'un kapsadığı alanın karmaşıklığı, best wase; O(n) ve worst base; O(n2)'dir.\n",
    "        value = list[index][0] \n",
    "        i = index - 1\n",
    "        while i>=0: #While'a girilmezse karmaşıklık, 5n -> n olur. O(n)'dir. \n",
    "                    #While'a girilirse karmaşıklık, n2'dir. O(n2)\n",
    "            if value < list[i][0]:\n",
    "                list[i+1][0] = list[i][0] #7\n",
    "                list[i][0] = value #3\n",
    "                i = i-1 #2\n",
    "            else:\n",
    "                break"
   ]
  },
  {
   "cell_type": "code",
   "execution_count": 7,
   "metadata": {},
   "outputs": [],
   "source": [
    "liste = [[3,2], [5,4], [1,1], [2,8]]\n",
    "insertion_sort(liste)"
   ]
  },
  {
   "cell_type": "code",
   "execution_count": 8,
   "metadata": {},
   "outputs": [
    {
     "name": "stdout",
     "output_type": "stream",
     "text": [
      "[[1, 2], [2, 4], [3, 1], [5, 8]]\n"
     ]
    }
   ],
   "source": [
    "print(liste)"
   ]
  },
  {
   "cell_type": "markdown",
   "metadata": {},
   "source": [
    "Soru.4) Verilen bir (a,b) noktasının bu listede olup olmadığını ve bulunuyorsa indis değerini , bulunmuyorsa -1 değerini return eden bir fonksiyon yazınız,  ( x bileşenine göre yarısının sıralı olması özelliğini de kullanılmalıdır, bu özelliği nasıl kullandığınızı açıkca belirtiniz.), karmaşıklığını bulunuz."
   ]
  },
  {
   "cell_type": "code",
   "execution_count": 11,
   "metadata": {},
   "outputs": [],
   "source": [
    "def nokta_bul(n): \"\"\"Bu fonksiyonun kapsadığı alanın karmaşıklığı; best case'de O(1), worst case'de(tüm listenin aranması ve \n",
    "                yine de aranan noktanın bulunamaması) O(n).\n",
    "                  \"\"\"\n",
    "    if(list.count(n)):\n",
    "        indis = list.index(n)\n",
    "        print(indis)\n",
    "    else:\n",
    "        return -1"
   ]
  },
  {
   "cell_type": "code",
   "execution_count": 12,
   "metadata": {},
   "outputs": [
    {
     "data": {
      "text/plain": [
       "-1"
      ]
     },
     "execution_count": 12,
     "metadata": {},
     "output_type": "execute_result"
    }
   ],
   "source": [
    "list = [[1, 2], [2, 4], [3, 1], [5, 8]]\n",
    "nokta_bul([3,0])"
   ]
  }
 ],
 "metadata": {
  "kernelspec": {
   "display_name": "Python 3",
   "language": "python",
   "name": "python3"
  },
  "language_info": {
   "codemirror_mode": {
    "name": "ipython",
    "version": 3
   },
   "file_extension": ".py",
   "mimetype": "text/x-python",
   "name": "python",
   "nbconvert_exporter": "python",
   "pygments_lexer": "ipython3",
   "version": "3.7.6"
  }
 },
 "nbformat": 4,
 "nbformat_minor": 4
}
