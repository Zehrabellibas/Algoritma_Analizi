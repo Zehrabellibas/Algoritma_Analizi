{
 "cells": [
  {
   "cell_type": "markdown",
   "metadata": {},
   "source": [
    "Soru.1) Bu listeyi  nXn lük bir matris olarak düşünüp kendisine gönderilen listeden matrisi elde eden bir fonksiyon yazıp karmaşıklığını bulunuz."
   ]
  },
  {
   "cell_type": "code",
   "execution_count": 142,
   "metadata": {},
   "outputs": [],
   "source": [
    "def yap_matris1(list):\n",
    "    boyut = len(list)\n",
    "    n = int(math.sqrt(boyut))\n",
    "    matris = [[-1 for i in range(n)] for j in range(n)]\n",
    "    print(matris)\n",
    "    a = 0\n",
    "    for i in range(n): #Bu for'un kapsadığı alanın karmaşıklığı, n2'dir. O(n2).\n",
    "        for j in range(n):\n",
    "            if(a < boyut):\n",
    "                matris[i][j] = list[a]\n",
    "                a = a + 1\n",
    "    print(matris)    "
   ]
  },
  {
   "cell_type": "code",
   "execution_count": 143,
   "metadata": {},
   "outputs": [
    {
     "name": "stdout",
     "output_type": "stream",
     "text": [
      "[[-1, -1], [-1, -1]]\n",
      "[[2, 6], [1, 4]]\n"
     ]
    }
   ],
   "source": [
    "liste = [2,6,1,4]\n",
    "yap_matris1(liste)"
   ]
  },
  {
   "cell_type": "markdown",
   "metadata": {},
   "source": [
    "Soru.2) Soru 1 de elde edilen matrisin determinantını recursive olarak bulan fonksiyon yazıp karmaşıklığını bulunuz."
   ]
  },
  {
   "cell_type": "code",
   "execution_count": 6,
   "metadata": {},
   "outputs": [],
   "source": [
    "import numpy as np"
   ]
  },
  {
   "cell_type": "code",
   "execution_count": 7,
   "metadata": {},
   "outputs": [],
   "source": [
    "def bul_determinant(m):\n",
    "    det = np.linalg.det(m)\n",
    "    print(int(det))"
   ]
  },
  {
   "cell_type": "code",
   "execution_count": 8,
   "metadata": {},
   "outputs": [
    {
     "name": "stdout",
     "output_type": "stream",
     "text": [
      "2\n"
     ]
    }
   ],
   "source": [
    "matris = [[2, 6], [1, 4]]\n",
    "bul_determinant(matris)"
   ]
  },
  {
   "cell_type": "markdown",
   "metadata": {},
   "source": [
    "Soru.3) Soru 1 yazılan fonksiyonu nxn yerine mxn olarak yeniden yazıp karmaşıklığını bulunuz."
   ]
  },
  {
   "cell_type": "code",
   "execution_count": 147,
   "metadata": {},
   "outputs": [],
   "source": [
    "def yap_matris2(list):\n",
    "    boyut = len(list) #2\n",
    "    m = boyut // 2 #2\n",
    "    n = boyut // m #2\n",
    "    matris2 = [[-1 for i in range(m)] for j in range(n)] #4\n",
    "    print(matris2)\n",
    "    a = 0 #1\n",
    "    for i in range(n):\n",
    "        for j in range(m):\n",
    "            if(a < boyut):\n",
    "                matris2[i][j] = list[a] #4\n",
    "                a = a + 1 #2\n",
    "    print(matris2) "
   ]
  },
  {
   "cell_type": "code",
   "execution_count": 148,
   "metadata": {},
   "outputs": [
    {
     "name": "stdout",
     "output_type": "stream",
     "text": [
      "[[-1, -1, -1], [-1, -1, -1]]\n",
      "[[3, 7, 1], [4, 5, 2]]\n"
     ]
    }
   ],
   "source": [
    "liste2 = [3, 7, 1, 4, 5, 2]\n",
    "yap_matris2(liste2)"
   ]
  },
  {
   "cell_type": "markdown",
   "metadata": {},
   "source": [
    "Soru.4) Soru 3 de yazılan fonksiyonu kullanarak 6 tane matris üretip en az sayıda çarpım işlemi yaparak bu matrislerin çarpımını  bulup return eden bir fonksiyon yazıp karmaşıklığını bulunuz."
   ]
  },
  {
   "cell_type": "code",
   "execution_count": 2,
   "metadata": {},
   "outputs": [],
   "source": [
    "def carp_matris():\n",
    "    z = [1, 3, 6, 4, 5, 2]\n",
    "    boyut = len(z)\n",
    "    m = boyut // 2\n",
    "    n = boyut // m \n",
    "    matris = [[-1 for i in range(m)] for j in range(n)] \n",
    "    a = 0 \n",
    "    for i in range(n):\n",
    "        for j in range(m):\n",
    "            if(a < boyut):\n",
    "                matris[i][j] = z[a]\n",
    "                a = a + 1\n",
    "    print(matris)\n",
    "    \n",
    "    c = [1, 7, 6, -5, 4, 2]\n",
    "    boyut = len(c)\n",
    "    m = boyut // 3\n",
    "    n = boyut // m \n",
    "    matris2 = [[-1 for i in range(m)] for j in range(n)] \n",
    "    a = 0 \n",
    "    for i in range(n):\n",
    "        for j in range(m):\n",
    "            if(a < boyut):\n",
    "                matris2[i][j] = c[a]\n",
    "                a = a + 1\n",
    "    print(matris2)\n",
    "    \n",
    "    \n",
    "    print(\"...Çarpma...\") \n",
    "    m3=[[0,0],[0,0]] \n",
    "    for p in range(len(matris)):\n",
    "        for q in range(len(matris2[0])):\n",
    "            for r in range(len(matris2)):\n",
    "                m3[p][q] +=matris[p][r]*matris2[r][q]\n",
    "    print(m3)"
   ]
  },
  {
   "cell_type": "code",
   "execution_count": 4,
   "metadata": {},
   "outputs": [
    {
     "name": "stdout",
     "output_type": "stream",
     "text": [
      "[[1, 3, 6], [4, 5, 2]]\n",
      "[[1, 7], [6, -5], [4, 2]]\n",
      "...Çarpma...\n",
      "[[43, 4], [42, 7]]\n"
     ]
    }
   ],
   "source": [
    "carp_matris()"
   ]
  }
 ],
 "metadata": {
  "kernelspec": {
   "display_name": "Python 3",
   "language": "python",
   "name": "python3"
  },
  "language_info": {
   "codemirror_mode": {
    "name": "ipython",
    "version": 3
   },
   "file_extension": ".py",
   "mimetype": "text/x-python",
   "name": "python",
   "nbconvert_exporter": "python",
   "pygments_lexer": "ipython3",
   "version": "3.7.6"
  }
 },
 "nbformat": 4,
 "nbformat_minor": 4
}
