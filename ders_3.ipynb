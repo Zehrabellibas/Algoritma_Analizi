{
 "cells": [
  {
   "cell_type": "markdown",
   "metadata": {},
   "source": [
    "Ders_3"
   ]
  },
  {
   "cell_type": "code",
   "execution_count": 19,
   "metadata": {},
   "outputs": [],
   "source": [
    "def bubble_sort(list):\n",
    "    n = len(list)\n",
    "    for i in range(n-1, -1, -1):\n",
    "        for j in range(0, i):\n",
    "            print(j, j+1)\n",
    "            if(list[j+1] < list[j]):\n",
    "                t = list[j + 1]\n",
    "                list[j + 1] = list[j]\n",
    "                list[j] = t\n",
    "    return list"
   ]
  },
  {
   "cell_type": "code",
   "execution_count": 20,
   "metadata": {},
   "outputs": [
    {
     "name": "stdout",
     "output_type": "stream",
     "text": [
      "(0, 1)\n",
      "(1, 2)\n",
      "(2, 3)\n",
      "(3, 4)\n",
      "(4, 5)\n",
      "(5, 6)\n",
      "(6, 7)\n",
      "(7, 8)\n",
      "(0, 1)\n",
      "(1, 2)\n",
      "(2, 3)\n",
      "(3, 4)\n",
      "(4, 5)\n",
      "(5, 6)\n",
      "(6, 7)\n",
      "(0, 1)\n",
      "(1, 2)\n",
      "(2, 3)\n",
      "(3, 4)\n",
      "(4, 5)\n",
      "(5, 6)\n",
      "(0, 1)\n",
      "(1, 2)\n",
      "(2, 3)\n",
      "(3, 4)\n",
      "(4, 5)\n",
      "(0, 1)\n",
      "(1, 2)\n",
      "(2, 3)\n",
      "(3, 4)\n",
      "(0, 1)\n",
      "(1, 2)\n",
      "(2, 3)\n",
      "(0, 1)\n",
      "(1, 2)\n",
      "(0, 1)\n"
     ]
    },
    {
     "data": {
      "text/plain": [
       "[1, 2, 3, 5, 6, 7, 8, 9, 10]"
      ]
     },
     "execution_count": 20,
     "metadata": {},
     "output_type": "execute_result"
    }
   ],
   "source": [
    "liste= [1, 3, 5, 2, 7, 8, 6, 10, 9]\n",
    "bubble_sort(liste)"
   ]
  },
  {
   "cell_type": "code",
   "execution_count": 61,
   "metadata": {},
   "outputs": [],
   "source": [
    "def insert_sort(list = [2,1,6,-2,4,9,-5]):\n",
    "    n = len(list)\n",
    "    loop_counter = 0\n",
    "    for i in range(n):\n",
    "        key = list[i]\n",
    "        j = 0\n",
    "    while j>=0 and key<ar[j]:\n",
    "        ar[j+1] = ar[j]\n",
    "        j = j-1\n",
    "        loop_counter = loop_counter + 1\n",
    "    ar[j+1] = key\n",
    "    return ar,loop_counter"
   ]
  },
  {
   "cell_type": "code",
   "execution_count": 62,
   "metadata": {},
   "outputs": [
    {
     "name": "stdout",
     "output_type": "stream",
     "text": [
      "[2, 1, 6, -2, 4, 9, -5]\n",
      "([-5, -5, 6, -2, 4, 9, -5], 0)\n"
     ]
    }
   ],
   "source": [
    "listem = [2,1,6,-2,4,9,-5]\n",
    "print(listem)\n",
    "listem, l_c = insert_sort()\n",
    "print(listem, l_c)"
   ]
  },
  {
   "cell_type": "code",
   "execution_count": 20,
   "metadata": {},
   "outputs": [
    {
     "name": "stdout",
     "output_type": "stream",
     "text": [
      "[2, 11, 16, 22, 34, 49, 55]\n",
      "([-5, -5, 6, -2, 4, 9, -5], 0)\n"
     ]
    }
   ],
   "source": [
    "liste = [2,11,16,22,34,49,55]\n",
    "print(liste)\n",
    "liste, l_c = insert_sort()\n",
    "print(liste, l_c)"
   ]
  },
  {
   "cell_type": "code",
   "execution_count": 63,
   "metadata": {},
   "outputs": [],
   "source": [
    "def my_insert_sort(liste  = [2, 1, 6, -2, 4, 9, -5]):\n",
    "    n = len(liste)\n",
    "    loop_counter = 0\n",
    "    for i in range(1, n): #Buraya len(liste) koyarak dene.\n",
    "        key = liste[i]\n",
    "        j = i - 1\n",
    "        while j>=0 and key<liste[j]:\n",
    "            liste[j+1] = liste[j]\n",
    "            j = j - 1\n",
    "            loop_counter = loop_counter + 1\n",
    "        liste[j+1] = key\n",
    "    return liste, loop_counter"
   ]
  },
  {
   "cell_type": "code",
   "execution_count": 64,
   "metadata": {},
   "outputs": [
    {
     "name": "stdout",
     "output_type": "stream",
     "text": [
      "[2, 1, 6, -2, 4, 9, -5]\n",
      "([-5, -2, 1, 2, 4, 6, 9], 11)\n"
     ]
    }
   ],
   "source": [
    "listem = [2, 1, 6, -2, 4, 9, -5]\n",
    "print(listem)\n",
    "listem, l_c = my_insert_sort()\n",
    "print(listem, l_c)"
   ]
  },
  {
   "cell_type": "code",
   "execution_count": 65,
   "metadata": {},
   "outputs": [
    {
     "name": "stdout",
     "output_type": "stream",
     "text": [
      "[-5, -2, 1, 2, 4, 6, 9]\n",
      "([-5, -2, 1, 2, 4, 6, 9], 0)\n"
     ]
    }
   ],
   "source": [
    "lise = [2, 11, 16, 22, 34, 43, 55]\n",
    "print(liste)\n",
    "liste, l_c = my_insert_sort()\n",
    "print(liste, l_c)"
   ]
  },
  {
   "cell_type": "code",
   "execution_count": null,
   "metadata": {},
   "outputs": [],
   "source": []
  }
 ],
 "metadata": {
  "kernelspec": {
   "display_name": "Python 2",
   "language": "python",
   "name": "python2"
  },
  "language_info": {
   "codemirror_mode": {
    "name": "ipython",
    "version": 2
   },
   "file_extension": ".py",
   "mimetype": "text/x-python",
   "name": "python",
   "nbconvert_exporter": "python",
   "pygments_lexer": "ipython2",
   "version": "2.7.16"
  }
 },
 "nbformat": 4,
 "nbformat_minor": 2
}
