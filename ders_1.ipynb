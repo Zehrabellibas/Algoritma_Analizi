{
 "cells": [
  {
   "cell_type": "markdown",
   "metadata": {},
   "source": [
    "Ders_1"
   ]
  },
  {
   "cell_type": "code",
   "execution_count": 1,
   "metadata": {},
   "outputs": [],
   "source": [
    "def fibo_re(n):\n",
    "    if n<2:\n",
    "        return n\n",
    "    else:\n",
    "        return fibo_re(n-1) + fibo_re(n-2)\n"
   ]
  },
  {
   "cell_type": "code",
   "execution_count": 2,
   "metadata": {},
   "outputs": [
    {
     "data": {
      "text/plain": [
       "5"
      ]
     },
     "execution_count": 2,
     "metadata": {},
     "output_type": "execute_result"
    }
   ],
   "source": [
    "fibo_re(5)"
   ]
  },
  {
   "cell_type": "code",
   "execution_count": 3,
   "metadata": {},
   "outputs": [],
   "source": [
    "def fibo_lo(n):\n",
    "    if n<2:\n",
    "        return n\n",
    "    else:\n",
    "        a = 0\n",
    "        b = 1\n",
    "        c = a + b\n",
    "        s = 1\n",
    "        while(s < n):\n",
    "            c = a + b\n",
    "            a = b\n",
    "            b = c\n",
    "            s = s + 1\n",
    "        return c"
   ]
  },
  {
   "cell_type": "code",
   "execution_count": 4,
   "metadata": {},
   "outputs": [
    {
     "data": {
      "text/plain": [
       "5"
      ]
     },
     "execution_count": 4,
     "metadata": {},
     "output_type": "execute_result"
    }
   ],
   "source": [
    "fibo_lo(5)"
   ]
  },
  {
   "cell_type": "code",
   "execution_count": 5,
   "metadata": {},
   "outputs": [],
   "source": [
    "def func_lo(a,b):\n",
    "    s = 1\n",
    "    while(b>0):\n",
    "        s = s * a\n",
    "        b = b - 1\n",
    "    return s"
   ]
  },
  {
   "cell_type": "code",
   "execution_count": 6,
   "metadata": {},
   "outputs": [
    {
     "data": {
      "text/plain": [
       "16"
      ]
     },
     "execution_count": 6,
     "metadata": {},
     "output_type": "execute_result"
    }
   ],
   "source": [
    "func_lo(4,2)"
   ]
  },
  {
   "cell_type": "code",
   "execution_count": 7,
   "metadata": {},
   "outputs": [],
   "source": [
    "def func_re(a,b):\n",
    "    if b == 0:\n",
    "        return 1\n",
    "    elif b == 1:\n",
    "        return a\n",
    "    else:\n",
    "        return func_re(a * a, b / 2)"
   ]
  },
  {
   "cell_type": "code",
   "execution_count": 17,
   "metadata": {},
   "outputs": [
    {
     "data": {
      "text/plain": [
       "16"
      ]
     },
     "execution_count": 17,
     "metadata": {},
     "output_type": "execute_result"
    }
   ],
   "source": [
    "func_re(4,2)"
   ]
  },
  {
   "cell_type": "code",
   "execution_count": 17,
   "metadata": {},
   "outputs": [
    {
     "data": {
      "text/plain": [
       "33"
      ]
     },
     "execution_count": 17,
     "metadata": {},
     "output_type": "execute_result"
    }
   ],
   "source": [
    "list_1=[4,-3, 2, 5, 4, 7, 2, 10, 2]\n",
    "sum(list_1)"
   ]
  },
  {
   "cell_type": "code",
   "execution_count": 18,
   "metadata": {},
   "outputs": [],
   "source": [
    "def my_f_1(list_1=[4,-3, 2, 5, 4, 7, 2, 10, 2]):\n",
    "    n = len(list_1)\n",
    "    for i in range(n):\n",
    "        t=0\n",
    "        for k in range(i,j):\n",
    "            t = t + list_1[k]\n",
    "        if t>maxsum:\n",
    "            maxsum = t\n",
    "    return maxsum"
   ]
  },
  {
   "cell_type": "code",
   "execution_count": 19,
   "metadata": {},
   "outputs": [],
   "source": [
    "def m_f_3(list_1=[4, -3, 2, 5, 4, 7, 2, 10, 2]):\n",
    "    n = len(list_1)\n",
    "    if n==1:\n",
    "        return list_1[0]\n",
    "    else:\n",
    "        left_list=list_1[0: n//2]\n",
    "        right_list = list_1[(n//2):n]\n",
    "        \n",
    "        left_sum = m_f_3(left_list)\n",
    "        right_sum = m_f_3(right_list)\n",
    "        center_sum=0\n",
    "        temp_sum = 0\n",
    "        for i in range(n//2,n): #Sağ kısım\n",
    "            t=t+list_1[i]\n",
    "            if t>temp_sum:\n",
    "                temp_sum = t\n",
    "        for i in range(n//2,-1,-1): #Sol kısım değeri\n",
    "            t=t+list_1[i]\n",
    "            if t>temp_sum:\n",
    "                temp_sum = t\n",
    "        center_sum = temp_sum\n",
    "        return max_of_three(left_sum, right_sum, center_sum)"
   ]
  },
  {
   "cell_type": "code",
   "execution_count": null,
   "metadata": {},
   "outputs": [],
   "source": []
  },
  {
   "cell_type": "code",
   "execution_count": 13,
   "metadata": {},
   "outputs": [
    {
     "data": {
      "text/plain": [
       "49"
      ]
     },
     "execution_count": 13,
     "metadata": {},
     "output_type": "execute_result"
    }
   ],
   "source": [
    "def max_of_two(a,b):\n",
    "    if a>b:\n",
    "        return a\n",
    "    else:\n",
    "        return b\n",
    "    \n",
    "def max_of_three(a,b,c):\n",
    "    return (max_of_two(a,max_of_two(b,c)))\n",
    "max_of_three(10,49,6)"
   ]
  },
  {
   "cell_type": "code",
   "execution_count": null,
   "metadata": {},
   "outputs": [],
   "source": []
  }
 ],
 "metadata": {
  "kernelspec": {
   "display_name": "Python 2",
   "language": "python",
   "name": "python2"
  },
  "language_info": {
   "codemirror_mode": {
    "name": "ipython",
    "version": 2
   },
   "file_extension": ".py",
   "mimetype": "text/x-python",
   "name": "python",
   "nbconvert_exporter": "python",
   "pygments_lexer": "ipython2",
   "version": "2.7.16"
  }
 },
 "nbformat": 4,
 "nbformat_minor": 2
}
